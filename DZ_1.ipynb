{
 "cells": [
  {
   "cell_type": "code",
   "execution_count": 14,
   "metadata": {},
   "outputs": [
    {
     "name": "stdout",
     "output_type": "stream",
     "text": [
      "All tests passed.\n"
     ]
    }
   ],
   "source": [
    "def TwoSum(nums, target):\n",
    "\n",
    "    left = 0\n",
    "    right = len(nums) - 1\n",
    "\n",
    "    while left < right:\n",
    "    \n",
    "        sum = nums[left] + nums[right]\n",
    "        if (sum == target):\n",
    "            return left, right\n",
    "        elif sum < target:\n",
    "            left += 1\n",
    "        else:\n",
    "            right -= 1\n",
    "    return []\n",
    "\n",
    "# Тесты\n",
    "def test_TwoSum():\n",
    "    assert TwoSum([1, 2, 3, 4, 6], 6) == (1, 3)\n",
    "    assert TwoSum([3], 3) == []\n",
    "    assert TwoSum([], 5) == []\n",
    "    assert TwoSum([1, 2, 3, 4, 5, 6, 7, 8], 9) == (0, 7)\n",
    "    assert TwoSum([10, 20, 30, 40, 50], 70) == (1, 4)\n",
    "if __name__ == \"__main__\":\n",
    "    test_TwoSum()\n",
    "    print(\"All tests passed.\")"
   ]
  },
  {
   "cell_type": "code",
   "execution_count": 15,
   "metadata": {},
   "outputs": [
    {
     "name": "stdout",
     "output_type": "stream",
     "text": [
      "All tests passed.\n"
     ]
    }
   ],
   "source": [
    "def reverseArray(arr):\n",
    "    left = 0\n",
    "    right = len(arr) - 1\n",
    "    \n",
    "    while left < right:\n",
    "        arr[left], arr[right] = arr[right], arr[left]\n",
    "        left += 1\n",
    "        right -= 1\n",
    "    return arr\n",
    "\n",
    "# Тесты\n",
    "def test_reverseArray():\n",
    "    assert reverseArray([3, 8, 6, 9, 9, 8, 6]) == [6, 8, 9, 9, 6, 8, 3]\n",
    "    assert reverseArray([1, 2, 3, 4]) == [4, 3, 2, 1]\n",
    "    assert reverseArray([1]) == [1]\n",
    "    assert reverseArray([]) == []\n",
    "    assert reverseArray([10, 20, 30, 40, 50]) == [50, 40, 30, 20, 10]\n",
    "    assert reverseArray([5, -3, 8, 0, 1]) == [1, 0, 8, -3, 5]\n",
    "if __name__ == \"__main__\":\n",
    "    test_reverseArray()\n",
    "    print(\"All tests passed.\")"
   ]
  },
  {
   "cell_type": "code",
   "execution_count": 16,
   "metadata": {},
   "outputs": [
    {
     "name": "stdout",
     "output_type": "stream",
     "text": [
      "All tests passed.\n"
     ]
    }
   ],
   "source": [
    "def reverseArray(arr, left, right):\n",
    "    while left < right:\n",
    "        arr[left], arr[right] = arr[right], arr[left]\n",
    "        left += 1\n",
    "        right -= 1\n",
    "\n",
    "\n",
    "def reverse_part_array(arr, k):\n",
    "    n = len(arr)\n",
    "    k = k % n\n",
    "    \n",
    "    reverseArray(arr, 0, n - 1)\n",
    "    reverseArray(arr, 0, k - 1)\n",
    "    reverseArray(arr, k, n - 1)\n",
    "    return arr\n",
    "\n",
    "# Тесты \n",
    "def test_solution():\n",
    "    assert reverse_part_array([1, 2, 3, 4, 5, 6, 7], 3) == [5, 6, 7, 1, 2, 3, 4]\n",
    "    assert reverse_part_array([1, 2, 3, 4, 5], 2) == [4, 5, 1, 2, 3]\n",
    "    assert reverse_part_array([1, 2, 3, 4, 5], 5) == [1, 2, 3, 4, 5]  # Полный цикл\n",
    "    assert reverse_part_array([1, 2, 3], 0) == [1, 2, 3]  # Без изменений\n",
    "    assert reverse_part_array([1], 2) == [1]  # Один элемент\n",
    "    \n",
    "if __name__ == \"__main__\":\n",
    "    test_solution()\n",
    "    print(\"All tests passed.\")"
   ]
  },
  {
   "cell_type": "code",
   "execution_count": 17,
   "metadata": {},
   "outputs": [
    {
     "name": "stdout",
     "output_type": "stream",
     "text": [
      "All tests passed.\n"
     ]
    }
   ],
   "source": [
    "def merge_sorted_arrays (arr1, arr2):\n",
    "    merged_array = []\n",
    "    i = 0\n",
    "    j = 0\n",
    "    \n",
    "    while i < len(arr1) and j < len(arr2):\n",
    "        if arr1[i] < arr2[j]:\n",
    "            merged_array.append(arr1[i])\n",
    "            i += 1\n",
    "        else:\n",
    "            merged_array.append(arr2[j])\n",
    "            j += 1\n",
    "    merged_array.extend(arr1[i:])\n",
    "    merged_array.extend(arr2[j:])\n",
    "    \n",
    "    return merged_array\n",
    "\n",
    "# Тесты\n",
    "def test_merge_sorted_arrays():\n",
    "    assert merge_sorted_arrays([1, 3, 5], [2, 4, 6]) == [1, 2, 3, 4, 5, 6]\n",
    "    assert merge_sorted_arrays([1, 2, 3], []) == [1, 2, 3]\n",
    "    assert merge_sorted_arrays([], [4, 5, 6]) == [4, 5, 6]\n",
    "    assert merge_sorted_arrays([1, 1, 1], [1, 1]) == [1, 1, 1, 1, 1]\n",
    "    assert merge_sorted_arrays([5, 10, 15], [2, 3, 20]) == [2, 3, 5, 10, 15, 20]\n",
    "    assert merge_sorted_arrays([], []) == [] \n",
    "    \n",
    "if __name__ == \"__main__\":\n",
    "    test_merge_sorted_arrays()\n",
    "    print(\"All tests passed.\")     "
   ]
  },
  {
   "cell_type": "code",
   "execution_count": 18,
   "metadata": {},
   "outputs": [
    {
     "name": "stdout",
     "output_type": "stream",
     "text": [
      "All tests passed!\n"
     ]
    }
   ],
   "source": [
    "def merge(arr1, arr2):\n",
    "    pointer1 = len(arr1) - len(arr2) - 1\n",
    "    pointer2 = len(arr2) - 1\n",
    "    pointer3 = len(arr1) - 1\n",
    "    \n",
    "    while pointer2 >= 0:\n",
    "        if pointer1 >= 0 and arr1[pointer1] > arr2[pointer2]:\n",
    "            arr1[pointer3] = arr1[pointer1]\n",
    "            pointer1 -= 1\n",
    "        else:\n",
    "            arr1[pointer3] = arr2[pointer2]\n",
    "            pointer2 -= 1\n",
    "        pointer3 -= 1\n",
    "    return arr1\n",
    "\n",
    "#Тесты\n",
    "def test_merge():\n",
    "    assert merge([1, 2, 3, 0, 0, 0], [4, 5, 6]) == [1, 2, 3, 4, 5, 6]\n",
    "    assert merge([1, 3, 5, 0, 0, 0], [2, 4, 6]) == [1, 2, 3, 4, 5, 6]\n",
    "    assert merge([1, 2, 3], []) == [1, 2, 3]\n",
    "    assert merge([0, 0, 0], [4, 5, 6]) == [4, 5, 6]\n",
    "    assert merge([1, 1, 1, 0, 0, 0], [1, 1, 1]) == [1, 1, 1, 1, 1, 1]\n",
    "    assert merge([10, 20, 30, 0, 0, 0], [5, 15, 25]) == [5, 10, 15, 20, 25, 30]\n",
    "    assert merge([], []) == []\n",
    "    \n",
    "if __name__ == \"__main__\":\n",
    "    test_merge()\n",
    "    print(\"All tests passed!\")"
   ]
  },
  {
   "cell_type": "code",
   "execution_count": 19,
   "metadata": {},
   "outputs": [
    {
     "name": "stdout",
     "output_type": "stream",
     "text": [
      "All tests passed!\n"
     ]
    }
   ],
   "source": [
    "def sort_binary_array(arr):\n",
    "    left, right = 0, len(arr) - 1 \n",
    "    while left < right:\n",
    "        if arr[left] == 1:\n",
    "            arr[left], arr[right] = arr[right], arr[left]\n",
    "            right -= 1\n",
    "        else:\n",
    "            left += 1\n",
    "    return arr\n",
    "\n",
    "# Тесты\n",
    "def test_sort_binary_array():\n",
    "    assert sort_binary_array([0, 1, 0, 1, 0, 1]) == [0, 0, 0, 1, 1, 1]\n",
    "    assert sort_binary_array([1, 1, 1, 0, 0, 0]) == [0, 0, 0, 1, 1, 1]\n",
    "    assert sort_binary_array([0, 0, 0, 1, 1, 1]) == [0, 0, 0, 1, 1, 1]\n",
    "    assert sort_binary_array([0]) == [0]\n",
    "    assert sort_binary_array([1]) == [1]\n",
    "    assert sort_binary_array([]) == []\n",
    "    assert sort_binary_array([0, 0, 1, 1]) == [0, 0, 1, 1]\n",
    "    assert sort_binary_array([1, 0, 1, 0, 1, 0]) == [0, 0, 0, 1, 1, 1]\n",
    "\n",
    "if __name__ == \"__main__\":\n",
    "    test_sort_binary_array()\n",
    "    print(\"All tests passed!\")"
   ]
  },
  {
   "cell_type": "code",
   "execution_count": 20,
   "metadata": {},
   "outputs": [
    {
     "name": "stdout",
     "output_type": "stream",
     "text": [
      "All tests passed!\n"
     ]
    }
   ],
   "source": [
    "def sortColors(nums):\n",
    "    low = 0\n",
    "    mid = 0\n",
    "    high = len(nums) - 1\n",
    "    while mid <= high:\n",
    "        if nums[mid] == 0:\n",
    "            nums[low], nums[mid] = nums[mid], nums[low]\n",
    "            low += 1\n",
    "            mid += 1\n",
    "        elif nums[mid] == 1:\n",
    "            mid += 1\n",
    "        else:  # nums[mid] == 2\n",
    "            nums[mid], nums[high] = nums[high], nums[mid]\n",
    "            high -= 1\n",
    "    return nums\n",
    "\n",
    "# Тесты\n",
    "def test_sortColors():\n",
    "    assert sortColors([2, 0, 2, 1, 1, 0]) == [0, 0, 1, 1, 2, 2]\n",
    "    assert sortColors([2, 0, 1]) == [0, 1, 2]\n",
    "    assert sortColors([0]) == [0]\n",
    "    assert sortColors([1, 1, 1]) == [1, 1, 1]\n",
    "    assert sortColors([2, 1, 0]) == [0, 1, 2]\n",
    "    assert sortColors([0, 1, 2, 0, 2, 1]) == [0, 0, 1, 1, 2, 2]\n",
    "    assert sortColors([2, 0, 1, 2, 1, 0]) == [0, 0, 1, 1, 2, 2]\n",
    "    assert sortColors([1, 0, 1, 0, 2, 2]) == [0, 0, 1, 1, 2, 2]\n",
    "    assert sortColors([]) == []\n",
    "\n",
    "if __name__ == \"__main__\":\n",
    "    test_sortColors()\n",
    "    print(\"All tests passed!\")"
   ]
  },
  {
   "cell_type": "code",
   "execution_count": 21,
   "metadata": {},
   "outputs": [
    {
     "name": "stdout",
     "output_type": "stream",
     "text": [
      "All tests passed!\n"
     ]
    }
   ],
   "source": [
    "def evenFirst(arr):\n",
    "    evenIndex = 0\n",
    "    for i in range(len(arr)):\n",
    "        if arr[i] % 2 == 0:\n",
    "            arr[i], arr[evenIndex] = arr[evenIndex], arr[i]\n",
    "            evenIndex += 1\n",
    "    return arr\n",
    "\n",
    "# Тесты \n",
    "def test_evenFirst():\n",
    "    assert evenFirst([1, 3, 5, 7]) == [1, 3, 5, 7]\n",
    "    assert evenFirst([2, 4, 6, 8]) == [2, 4, 6, 8]\n",
    "    assert evenFirst([1, 2, 3, 4]) == [2, 4, 3, 1]\n",
    "    assert evenFirst([0]) == [0]\n",
    "    assert evenFirst([1]) == [1]\n",
    "    assert evenFirst([]) == []\n",
    "\n",
    "if __name__ == \"__main__\":\n",
    "    test_evenFirst()\n",
    "    print(\"All tests passed!\")"
   ]
  },
  {
   "cell_type": "code",
   "execution_count": 22,
   "metadata": {},
   "outputs": [
    {
     "name": "stdout",
     "output_type": "stream",
     "text": [
      "All tests passed!\n"
     ]
    }
   ],
   "source": [
    "def move_zeros_to_end(arr):\n",
    "    # Указатель для записи ненулевых элементов\n",
    "    write_pointer = 0\n",
    "\n",
    "    # Проходим по массиву и перемещаем ненулевые элементы вперед\n",
    "    for read_pointer in range(len(arr)):\n",
    "        if arr[read_pointer] != 0:\n",
    "            arr[write_pointer] = arr[read_pointer]\n",
    "            write_pointer += 1\n",
    "\n",
    "    # Заполняем оставшуюся часть массива нулями\n",
    "    while write_pointer < len(arr):\n",
    "        arr[write_pointer] = 0\n",
    "        write_pointer += 1\n",
    "\n",
    "    return arr\n",
    "\n",
    "# Тесты\n",
    "def test_move_zeros_to_end():\n",
    "    assert move_zeros_to_end([5, 0, 3, 0, 4, 2, 0, 1]) == [5, 3, 4, 2, 1, 0, 0, 0]\n",
    "    assert move_zeros_to_end([0, 0, 0, 1, 2, 3]) == [1, 2, 3, 0, 0, 0]\n",
    "    assert move_zeros_to_end([1, 2, 3, 4, 5]) == [1, 2, 3, 4, 5]\n",
    "    assert move_zeros_to_end([0, 0, 0]) == [0, 0, 0]\n",
    "    assert move_zeros_to_end([]) == []\n",
    "\n",
    "if __name__ == \"__main__\":\n",
    "    test_move_zeros_to_end()\n",
    "    print(\"All tests passed!\")"
   ]
  },
  {
   "cell_type": "markdown",
   "metadata": {},
   "source": [
    "# 2 ЧАСТЬ\n"
   ]
  },
  {
   "cell_type": "code",
   "execution_count": 23,
   "metadata": {},
   "outputs": [],
   "source": [
    "class ListNode:\n",
    "    def __init__(self, val=0, next=None):\n",
    "        self.val = val\n",
    "        self.next = next\n"
   ]
  },
  {
   "cell_type": "code",
   "execution_count": 24,
   "metadata": {},
   "outputs": [],
   "source": [
    "def hasCycle(head):\n",
    "    \n",
    "    if head is None or head.next is None:\n",
    "        return False\n",
    "\n",
    "    slow = head  \n",
    "    fast = head.next\n",
    "\n",
    "    while slow != fast:\n",
    "        if fast is None or fast.next is None:\n",
    "            return False\n",
    "\n",
    "        slow = slow.next\n",
    "        fast = fast.next.next\n",
    "    return True"
   ]
  },
  {
   "cell_type": "code",
   "execution_count": 25,
   "metadata": {},
   "outputs": [
    {
     "name": "stdout",
     "output_type": "stream",
     "text": [
      "All tests passed!\n"
     ]
    }
   ],
   "source": [
    "def test_hasCycle():\n",
    "    node1 = ListNode(1)\n",
    "    node2 = ListNode(2)\n",
    "    node3 = ListNode(3)\n",
    "    node1.next = node2\n",
    "    node2.next = node3\n",
    "    assert hasCycle(node1) == False\n",
    "    \n",
    "    node1 = ListNode(1)\n",
    "    node2 = ListNode(2)\n",
    "    node3 = ListNode(3)\n",
    "    node1.next = node2\n",
    "    node2.next = node3\n",
    "    node3.next = node1  # Создаем цикл\n",
    "    assert hasCycle(node1) == True\n",
    "    \n",
    "    node = ListNode(1)\n",
    "    assert hasCycle(node) == False\n",
    "    \n",
    "    node = ListNode(1)\n",
    "    node.next = node  # Создаем цикл\n",
    "    assert hasCycle(node) == True\n",
    "    \n",
    "    assert hasCycle(None) == False\n",
    "\n",
    "if __name__ == \"__main__\":\n",
    "    test_hasCycle()\n",
    "    print(\"All tests passed!\")\n"
   ]
  },
  {
   "cell_type": "code",
   "execution_count": 26,
   "metadata": {},
   "outputs": [],
   "source": [
    "def reverseLinkedList (head):\n",
    "    prev = None\n",
    "    current = head\n",
    "    \n",
    "    while(current != None):\n",
    "        next = current.next\n",
    "        current.next = prev\n",
    "        prev = current\n",
    "        current = next\n",
    "        \n",
    "    head = prev\n",
    "    return head"
   ]
  },
  {
   "cell_type": "code",
   "execution_count": 27,
   "metadata": {},
   "outputs": [
    {
     "name": "stdout",
     "output_type": "stream",
     "text": [
      "All tests passed!\n"
     ]
    }
   ],
   "source": [
    "# Функция для создания связанного списка из списка значений\n",
    "def createLinkedList(lst):\n",
    "    if not lst:\n",
    "        return None\n",
    "    head = ListNode(lst[0])\n",
    "    current = head\n",
    "    for val in lst[1:]:\n",
    "        current.next = ListNode(val)\n",
    "        current = current.next\n",
    "    return head\n",
    "\n",
    "# Функция для преобразования связанного списка в обычный список\n",
    "def linkedListToList(head):\n",
    "    result = []\n",
    "    while head:\n",
    "        result.append(head.val)\n",
    "        head = head.next\n",
    "    return result\n",
    "\n",
    "\n",
    "# Тесты\n",
    "def test_reverseLinkedList():\n",
    "    # Обычные случаи\n",
    "    assert linkedListToList(reverseLinkedList(createLinkedList([1, 2, 3, 4, 5]))) == [5, 4, 3, 2, 1]\n",
    "    assert linkedListToList(reverseLinkedList(createLinkedList([1, 2, 3]))) == [3, 2, 1]\n",
    "    assert linkedListToList(reverseLinkedList(createLinkedList([1, 2]))) == [2, 1]\n",
    "\n",
    "    # Граничные случаи\n",
    "    assert linkedListToList(reverseLinkedList(createLinkedList([1]))) == [1]  # Один элемент\n",
    "    assert linkedListToList(reverseLinkedList(createLinkedList([]))) == []  # Пустой список\n",
    "\n",
    "if __name__ == \"__main__\":\n",
    "    test_reverseLinkedList()\n",
    "    print(\"All tests passed!\")"
   ]
  },
  {
   "cell_type": "code",
   "execution_count": 28,
   "metadata": {},
   "outputs": [],
   "source": [
    "def middleNode(head):\n",
    "    slow = fast = head\n",
    "    while (fast != None) and (fast.next != None):\n",
    "        slow = slow.next\n",
    "        fast = fast.next.next\n",
    "    return slow"
   ]
  },
  {
   "cell_type": "code",
   "execution_count": 29,
   "metadata": {},
   "outputs": [
    {
     "name": "stdout",
     "output_type": "stream",
     "text": [
      "All tests passed!\n"
     ]
    }
   ],
   "source": [
    "# Функция для создания связанного списка из списка значений\n",
    "def createLinkedList(lst):\n",
    "    if not lst:\n",
    "        return None\n",
    "    head = ListNode(lst[0])\n",
    "    current = head\n",
    "    for val in lst[1:]:\n",
    "        current.next = ListNode(val)\n",
    "        current = current.next\n",
    "    return head\n",
    "\n",
    "# Функция для преобразования связанного списка в обычный список (начиная с middleNode)\n",
    "def linkedListToList(head):\n",
    "    result = []\n",
    "    while head:\n",
    "        result.append(head.val)\n",
    "        head = head.next\n",
    "    return result\n",
    "\n",
    "# Тесты\n",
    "def test_middleNode():\n",
    "    # Обычные случаи\n",
    "    assert linkedListToList(middleNode(createLinkedList([1, 2, 3, 4, 5]))) == [3, 4, 5]\n",
    "    assert linkedListToList(middleNode(createLinkedList([1, 2, 3, 4, 5, 6]))) == [4, 5, 6]\n",
    "    assert linkedListToList(middleNode(createLinkedList([1, 2, 3]))) == [2, 3]\n",
    "    assert linkedListToList(middleNode(createLinkedList([1, 2]))) == [2]\n",
    "\n",
    "    # Граничные случаи\n",
    "    assert linkedListToList(middleNode(createLinkedList([1]))) == [1]  # Один элемент\n",
    "    assert middleNode(createLinkedList([])) is None  # Пустой список\n",
    "\n",
    "if __name__ == \"__main__\":\n",
    "    test_middleNode()\n",
    "    print(\"All tests passed!\")"
   ]
  },
  {
   "cell_type": "code",
   "execution_count": 30,
   "metadata": {},
   "outputs": [],
   "source": [
    "def removeElements(head, val):\n",
    "    dummy = ListNode() \n",
    "    dummy.next = head\n",
    "    prev, cur = dummy, head\n",
    "\n",
    "    while cur is not None:\n",
    "        if cur.val == val:\n",
    "            prev.next = cur.next\n",
    "        else:\n",
    "            prev = cur\n",
    "        cur = cur.next \n",
    "\n",
    "    return dummy.next"
   ]
  },
  {
   "cell_type": "code",
   "execution_count": 31,
   "metadata": {},
   "outputs": [
    {
     "name": "stdout",
     "output_type": "stream",
     "text": [
      "All tests passed!\n"
     ]
    }
   ],
   "source": [
    "def test_removeElements():\n",
    "    # Обычные случаи\n",
    "    assert linkedListToList(removeElements(createLinkedList([1, 2, 6, 3, 4, 5, 6]), 6)) == [1, 2, 3, 4, 5]\n",
    "    assert linkedListToList(removeElements(createLinkedList([7, 7, 7, 7]), 7)) == []\n",
    "    assert linkedListToList(removeElements(createLinkedList([1, 2, 2, 1]), 2)) == [1, 1]\n",
    "    assert linkedListToList(removeElements(createLinkedList([1, 2, 3, 4, 5]), 10)) == [1, 2, 3, 4, 5]  # Нет элементов для удаления\n",
    "\n",
    "    # Граничные случаи\n",
    "    assert linkedListToList(removeElements(createLinkedList([]), 1)) == []  # Пустой список\n",
    "    assert linkedListToList(removeElements(createLinkedList([1]), 1)) == []  # Удаляем единственный элемент\n",
    "    assert linkedListToList(removeElements(createLinkedList([1]), 2)) == [1]  # Один элемент, но не удаляем\n",
    "    \n",
    "if __name__ == \"__main__\":\n",
    "    test_removeElements()\n",
    "    print(\"All tests passed!\")"
   ]
  },
  {
   "cell_type": "code",
   "execution_count": null,
   "metadata": {},
   "outputs": [],
   "source": [
    "# Версия через deque\n",
    "# from collections import deque\n",
    "\n",
    "# def isSubsequence(a, b):\n",
    "#     q = deque(a)  # Создаём очередь из строки a\n",
    "\n",
    "#     for el in b:\n",
    "#         if q and  q[0] == el:  # Сравниваем с первым элементом очереди\n",
    "#             q.popleft()  # Удаляем совпавший элемент\n",
    "\n",
    "#     return len(q) == 0  # Если очередь пуста, значит a — подпоследовательность b"
   ]
  },
  {
   "cell_type": "code",
   "execution_count": null,
   "metadata": {},
   "outputs": [],
   "source": [
    "# Версия через queue\n",
    "from queue import Queue\n",
    "\n",
    "def isSubsequence(a, b):\n",
    "    q = Queue()\n",
    "    for el in a:\n",
    "        q.put(el)\n",
    "    for el in b:\n",
    "        if not q.empty() and q.queue[0] == el:\n",
    "            q.get()\n",
    "    return q.empty()"
   ]
  },
  {
   "cell_type": "code",
   "execution_count": 34,
   "metadata": {},
   "outputs": [
    {
     "name": "stdout",
     "output_type": "stream",
     "text": [
      "All tests passed!\n"
     ]
    }
   ],
   "source": [
    "def test_isSubsequence():\n",
    "    # Обычные случаи\n",
    "    assert isSubsequence(\"abc\", \"ahbgdc\") == True  # \"abc\" есть в \"ahbgdc\"\n",
    "    assert isSubsequence(\"axc\", \"ahbgdc\") == False  # \"axc\" нет в \"ahbgdc\"\n",
    "    assert isSubsequence(\"hello\", \"heolloworld\") == True  # \"hello\" можно найти\n",
    "    assert isSubsequence(\"sing\", \"string\") == True  # \"sing\" можно найти\n",
    "    assert isSubsequence(\"abc\", \"acb\") == False  # Порядок нарушен\n",
    "\n",
    "    # Граничные случаи\n",
    "    assert isSubsequence(\"\", \"ahbgdc\") == True  # Пустая строка — всегда подпоследовательность\n",
    "    assert isSubsequence(\"abc\", \"\") == False  # Непустая строка не может быть в пустой\n",
    "    assert isSubsequence(\"\", \"\") == True  # Две пустые строки\n",
    "    assert isSubsequence(\"a\", \"a\") == True  # Одна буква, которая есть\n",
    "    assert isSubsequence(\"a\", \"b\") == False  # Одна буква, которой нет\n",
    "    assert isSubsequence(\"abc\", \"aabbcc\") == True  # Символы есть в правильном порядке\n",
    "\n",
    "\n",
    "if __name__ == \"__main__\":\n",
    "    test_isSubsequence()\n",
    "    print(\"All tests passed!\")"
   ]
  },
  {
   "cell_type": "code",
   "execution_count": 35,
   "metadata": {},
   "outputs": [],
   "source": [
    "def isSubsequence_2(a, b):\n",
    "    i = 0 \n",
    "    lenA, lenB = len(a), len(b)\n",
    "\n",
    "    for el2 in range(lenB):\n",
    "        if i < lenA and a[i] == b[el2]:\n",
    "            i += 1 \n",
    "\n",
    "    return i == lenA\n"
   ]
  },
  {
   "cell_type": "code",
   "execution_count": 36,
   "metadata": {},
   "outputs": [
    {
     "name": "stdout",
     "output_type": "stream",
     "text": [
      "All tests passed!\n"
     ]
    }
   ],
   "source": [
    "def test_isSubsequence_2():\n",
    "    # Обычные случаи\n",
    "    assert isSubsequence_2(\"abc\", \"ahbgdc\") == True  # \"abc\" есть в \"ahbgdc\"\n",
    "    assert isSubsequence_2(\"axc\", \"ahbgdc\") == False  # \"axc\" нет в \"ahbgdc\"\n",
    "    assert isSubsequence_2(\"hello\", \"heolloworld\") == True  # \"hello\" можно найти\n",
    "    assert isSubsequence_2(\"sing\", \"string\") == True  # \"sing\" можно найти\n",
    "    assert isSubsequence_2(\"abc\", \"acb\") == False  # Порядок нарушен\n",
    "\n",
    "    # Граничные случаи\n",
    "    assert isSubsequence_2(\"\", \"ahbgdc\") == True  # Пустая строка — всегда подпоследовательность\n",
    "    assert isSubsequence_2(\"abc\", \"\") == False  # Непустая строка не может быть в пустой\n",
    "    assert isSubsequence_2(\"\", \"\") == True  # Две пустые строки\n",
    "    assert isSubsequence_2(\"a\", \"a\") == True  # Одна буква, которая есть\n",
    "    assert isSubsequence_2(\"a\", \"b\") == False  # Одна буква, которой нет\n",
    "    assert isSubsequence_2(\"abc\", \"aabbcc\") == True  # Символы есть в правильном порядке\n",
    "\n",
    "if __name__ == \"__main__\":\n",
    "    test_isSubsequence_2()\n",
    "    print(\"All tests passed!\")\n"
   ]
  },
  {
   "cell_type": "code",
   "execution_count": 37,
   "metadata": {},
   "outputs": [],
   "source": [
    "def isPalindrome(s):\n",
    "    stack = []\n",
    "    \n",
    "    for char in s:\n",
    "        stack.append(char)\n",
    "    \n",
    "    for char in s:\n",
    "        if char != stack.pop():\n",
    "            return False\n",
    "    \n",
    "    return True"
   ]
  },
  {
   "cell_type": "code",
   "execution_count": 38,
   "metadata": {},
   "outputs": [
    {
     "name": "stdout",
     "output_type": "stream",
     "text": [
      "All tests passed!\n"
     ]
    }
   ],
   "source": [
    "# Тесты\n",
    "def test_isPalindrome():\n",
    "    # Палиндромы\n",
    "    assert isPalindrome(\"racecar\") == True, \"Тест 1 не пройден\"\n",
    "    assert isPalindrome(\"madam\") == True, \"Тест 2 не пройден\"\n",
    "    assert isPalindrome(\"12321\") == True, \"Тест 3 не пройден\"\n",
    "    assert isPalindrome(\"A man a plan a canal Panama\") == False, \"Тест 4 не пройден\"  # С пробелами и регистром\n",
    "    assert isPalindrome(\"\") == True, \"Тест 5 не пройден\"  # Пустая строка\n",
    "    assert isPalindrome(\"a\") == True, \"Тест 6 не пройден\"  # Один символ\n",
    "\n",
    "    # Не палиндромы\n",
    "    assert isPalindrome(\"hello\") == False, \"Тест 7 не пройден\"\n",
    "    assert isPalindrome(\"12345\") == False, \"Тест 8 не пройден\"\n",
    "    assert isPalindrome(\"python\") == False, \"Тест 9 не пройден\"\n",
    "\n",
    "    # Палиндромы с разным регистром (должны быть обработаны как не палиндромы, если регистр учитывается)\n",
    "    assert isPalindrome(\"Racecar\") == False, \"Тест 10 не пройден\"\n",
    "    assert isPalindrome(\"Madam\") == False, \"Тест 11 не пройден\"\n",
    "\n",
    "    # Палиндромы с пробелами и знаками препинания (должны быть обработаны как не палиндромы, если не очищены)\n",
    "    assert isPalindrome(\"A man, a plan, a canal, Panama\") == False, \"Тест 12 не пройден\"\n",
    "    assert isPalindrome(\"Was it a car or a cat I saw?\") == False, \"Тест 13 не пройден\"\n",
    "\n",
    "    print(\"All tests passed!\")\n",
    "\n",
    "# Запуск тестов\n",
    "test_isPalindrome()"
   ]
  },
  {
   "cell_type": "code",
   "execution_count": 39,
   "metadata": {},
   "outputs": [],
   "source": [
    "def isPalindrome(s):\n",
    "    left = 0\n",
    "    right = len(s) - 1\n",
    "\n",
    "    while left < right:\n",
    "        if s[left] != s[right]:\n",
    "            return False\n",
    "        left += 1\n",
    "        right -= 1\n",
    "\n",
    "    return True\n"
   ]
  },
  {
   "cell_type": "code",
   "execution_count": 40,
   "metadata": {},
   "outputs": [
    {
     "name": "stdout",
     "output_type": "stream",
     "text": [
      "All tests passed!\n"
     ]
    }
   ],
   "source": [
    "def test_isPalindrome():\n",
    "    # Обычные случаи\n",
    "    assert isPalindrome(\"racecar\") == True  # Палиндром\n",
    "    assert isPalindrome(\"level\") == True    # Палиндром\n",
    "    assert isPalindrome(\"hello\") == False   # Не палиндром\n",
    "    assert isPalindrome(\"abccba\") == True   # Четное количество символов\n",
    "    assert isPalindrome(\"abcdba\") == False  # Почти палиндром\n",
    "\n",
    "    # Граничные случаи\n",
    "    assert isPalindrome(\"\") == True         # Пустая строка — палиндром\n",
    "    assert isPalindrome(\"a\") == True        # Одна буква — палиндром\n",
    "    assert isPalindrome(\"aa\") == True       # Две одинаковые буквы\n",
    "    assert isPalindrome(\"ab\") == False      # Две разные буквы\n",
    "\n",
    "    # Случаи с числами и спецсимволами\n",
    "    assert isPalindrome(\"12321\") == True\n",
    "    assert isPalindrome(\"12@21\") == True\n",
    "    assert isPalindrome(\"12@31\") == False\n",
    "\n",
    "if __name__ == \"__main__\":\n",
    "    test_isPalindrome()\n",
    "    print(\"All tests passed!\")\n"
   ]
  },
  {
   "cell_type": "code",
   "execution_count": 41,
   "metadata": {},
   "outputs": [],
   "source": [
    "def merge_sorted_lists(list1, list2):\n",
    "    dummy = ListNode(-1)\n",
    "    tail = dummy\n",
    "\n",
    "    while list1 and list2:\n",
    "        if list1.val < list2.val:\n",
    "            tail.next = list1\n",
    "            list1 = list1.next\n",
    "        else:\n",
    "            tail.next = list2\n",
    "            list2 = list2.next\n",
    "        tail = tail.next\n",
    "\n",
    "    tail.next = list1 if list1 else list2\n",
    "\n",
    "    return dummy.next"
   ]
  },
  {
   "cell_type": "code",
   "execution_count": 42,
   "metadata": {},
   "outputs": [
    {
     "name": "stdout",
     "output_type": "stream",
     "text": [
      "All tests passed!\n"
     ]
    }
   ],
   "source": [
    "def test_merge_sorted_lists():\n",
    "    # Тест 1\n",
    "    list1 = ListNode(3, ListNode(6, ListNode(8)))\n",
    "    list2 = ListNode(4, ListNode(7, ListNode(9, ListNode(11))))\n",
    "    merged = merge_sorted_lists(list1, list2)\n",
    "    result = []\n",
    "    while merged:\n",
    "        result.append(merged.val)\n",
    "        merged = merged.next\n",
    "    assert result == [3, 4, 6, 7, 8, 9, 11]\n",
    "\n",
    "    # Тест 2 — один пустой список\n",
    "    list1 = None\n",
    "    list2 = ListNode(1, ListNode(2, ListNode(3)))\n",
    "    merged = merge_sorted_lists(list1, list2)\n",
    "    result = []\n",
    "    while merged:\n",
    "        result.append(merged.val)\n",
    "        merged = merged.next\n",
    "    assert result == [1, 2, 3]\n",
    "\n",
    "    # Тест 3 — оба пустые\n",
    "    list1 = None\n",
    "    list2 = None\n",
    "    merged = merge_sorted_lists(list1, list2)\n",
    "    result = []\n",
    "    while merged:\n",
    "        result.append(merged.val)\n",
    "        merged = merged.next\n",
    "    assert result == []\n",
    "\n",
    "    # Тест 4 — пересечение элементов\n",
    "    list1 = ListNode(1, ListNode(3, ListNode(5)))\n",
    "    list2 = ListNode(1, ListNode(4, ListNode(6)))\n",
    "    merged = merge_sorted_lists(list1, list2)\n",
    "    result = []\n",
    "    while merged:\n",
    "        result.append(merged.val)\n",
    "        merged = merged.next\n",
    "    assert result == [1, 1, 3, 4, 5, 6]\n",
    "\n",
    "if __name__ == \"__main__\":\n",
    "    test_merge_sorted_lists()\n",
    "    print(\"All tests passed!\")"
   ]
  }
 ],
 "metadata": {
  "kernelspec": {
   "display_name": "base",
   "language": "python",
   "name": "python3"
  },
  "language_info": {
   "codemirror_mode": {
    "name": "ipython",
    "version": 3
   },
   "file_extension": ".py",
   "mimetype": "text/x-python",
   "name": "python",
   "nbconvert_exporter": "python",
   "pygments_lexer": "ipython3",
   "version": "3.12.4"
  }
 },
 "nbformat": 4,
 "nbformat_minor": 2
}
